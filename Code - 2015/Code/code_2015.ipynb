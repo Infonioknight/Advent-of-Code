{
 "cells": [
  {
   "cell_type": "code",
   "execution_count": null,
   "metadata": {},
   "outputs": [],
   "source": [
    "# data = input()\n",
    "# counter = 0\n",
    "# for i in range(0, len(data)):\n",
    "#     if data[i] == '(':\n",
    "#         counter += 1\n",
    "#     else:\n",
    "#         counter -= 1\n",
    "    \n",
    "#     if counter == -1:\n",
    "#         break\n",
    "# print(i+1)\n"
   ]
  },
  {
   "cell_type": "code",
   "execution_count": null,
   "metadata": {},
   "outputs": [],
   "source": [
    "# # 2lb + 2bh + 2lh\n",
    "# data = input()\n",
    "# data_split = data.split(' ')\n",
    "# sum = 0\n",
    "# for dim in data_split:\n",
    "#     values = dim.split('x')\n",
    "#     values = [int(i) for i in values]\n",
    "#     values.sort()\n",
    "#     sum += 2 * (values[0] + values[1]) + (values[0] * values[1] * values[2])\n",
    "# print(sum)\n",
    "       \n"
   ]
  },
  {
   "cell_type": "code",
   "execution_count": null,
   "metadata": {},
   "outputs": [],
   "source": [
    "# directions = input()\n",
    "# directions_cleaned = ''.join(directions.split(' '))\n",
    "\n",
    "# i_santa = 0\n",
    "# j_santa = 0\n",
    "\n",
    "# i_robot = 0\n",
    "# j_robot = 0\n",
    "\n",
    "# house_map = ['0 0']\n",
    "\n",
    "# for direction_index in range(0, len(directions_cleaned)):\n",
    "#     if(direction_index % 2 == 0):\n",
    "#         i = i_santa\n",
    "#         j = j_santa\n",
    "#     else:\n",
    "#         i = i_robot\n",
    "#         j = j_robot\n",
    "\n",
    "#     if(directions_cleaned[direction_index] == '^'):\n",
    "#         i -= 1\n",
    "#     if(directions_cleaned[direction_index] == 'v'):\n",
    "#         i += 1\n",
    "#     if(directions_cleaned[direction_index] == '>'):\n",
    "#         j += 1\n",
    "#     if(directions_cleaned[direction_index] == '<'):\n",
    "#         j -= 1\n",
    "    \n",
    "#     cur_house = str(i) + ' ' + str(j)\n",
    "#     if not(cur_house in house_map):\n",
    "#         house_map.append(cur_house)\n",
    "    \n",
    "#     if(direction_index % 2 == 0):\n",
    "#         i_santa = i\n",
    "#         j_santa = j\n",
    "#     else:\n",
    "#         i_robot = i\n",
    "#         j_robot = j\n",
    "    \n",
    "\n",
    "\n",
    "# print(len(house_map))"
   ]
  },
  {
   "cell_type": "code",
   "execution_count": null,
   "metadata": {},
   "outputs": [],
   "source": [
    "# import hashlib\n",
    "\n",
    "# secret_code = 'ckczppom'\n",
    "# follow = 1\n",
    "# result = False\n",
    "# while(result == False):\n",
    "#     string = secret_code + str(follow)\n",
    "#     current = hashlib.md5(string.encode()).hexdigest()\n",
    "#     if(current[0:6] == '000000'):\n",
    "#         result = True\n",
    "#     else:\n",
    "#         follow += 1\n",
    "\n",
    "# print(follow)\n"
   ]
  },
  {
   "cell_type": "code",
   "execution_count": null,
   "metadata": {},
   "outputs": [],
   "source": [
    "# # atleast 3 vowels\n",
    "# # atleast one letter twice in a row\n",
    "# # no ab, cd, pq, xy\n",
    "\n",
    "# data = input()\n",
    "# data_cleaned = data.split(' ')\n",
    "# counter = 0\n",
    "# for string in data_cleaned:\n",
    "#     vowels = 0\n",
    "#     two_in_a_row = 0\n",
    "#     flag = 0\n",
    "#     for i in range(0, len(string)):\n",
    "#         if(string[i:i+2] == 'ab' or string[i:i+2] == 'cd' or string[i:i+2] == 'pq' or string[i:i+2] == 'xy'):\n",
    "#             flag = 1\n",
    "#             break\n",
    "#         if(string[i] == 'a' or string[i] == 'e' or string[i] == 'i' or string[i] == 'o' or string[i] == 'u'):\n",
    "#             vowels += 1\n",
    "#         if(i < len(string)-1 and string[i] == string[i+1]):\n",
    "#             two_in_a_row += 1\n",
    "        \n",
    "#     if(flag == 0 and vowels > 2 and two_in_a_row > 0):\n",
    "#         counter += 1\n",
    "# print(counter)\n"
   ]
  },
  {
   "cell_type": "code",
   "execution_count": null,
   "metadata": {},
   "outputs": [],
   "source": [
    "# # pair of two letters that appears atleast twice\n",
    "# # one letter which repeats with exactly one letter in between\n",
    "\n",
    "# data = input()\n",
    "# data_cleaned = data.split(' ')\n",
    "# counter = 0\n",
    "\n",
    "# for string in data_cleaned:\n",
    "#     pairs = {}\n",
    "#     pair_condition = False\n",
    "#     repeats = False\n",
    "#     for i in range(0, len(string)):\n",
    "#         if (i < len(string)-1) and (string[i:i+2] in pairs.keys()):\n",
    "#             if(pairs[string[i:i+2]] != i-1):\n",
    "#                 pair_condition = True\n",
    "#             else:\n",
    "#                 continue\n",
    "#         else:\n",
    "#             pairs[string[i:i+2]] = i\n",
    "\n",
    "#         if(i < len(string) - 2 and string[i] == string[i+2]):\n",
    "#             repeats = True\n",
    "#     if(repeats and pair_condition):\n",
    "#          counter += 1\n",
    "# print(counter)\n"
   ]
  },
  {
   "cell_type": "code",
   "execution_count": null,
   "metadata": {},
   "outputs": [],
   "source": [
    "# dictionary = {}\n",
    "# if 'a' in dictionary:\n",
    "#     print(1)\n",
    "# else:\n",
    "#     print(2)"
   ]
  },
  {
   "cell_type": "code",
   "execution_count": null,
   "metadata": {},
   "outputs": [],
   "source": [
    "# data = open(\"Data.txt\", \"r\")\n",
    "# content = data.read()\n",
    "# data_cleaned = content.split('\\n')\n",
    "# data_cleaned.pop()\n",
    "# print(len(data_cleaned))"
   ]
  },
  {
   "cell_type": "code",
   "execution_count": null,
   "metadata": {},
   "outputs": [],
   "source": [
    "# import numpy as np"
   ]
  },
  {
   "cell_type": "code",
   "execution_count": null,
   "metadata": {},
   "outputs": [],
   "source": [
    "# field = np.zeros((1000, 1000))\n",
    "# counter = 0\n",
    "# for instruction in data_cleaned:\n",
    "#     curcord = []\n",
    "#     coord = 0\n",
    "#     for i in instruction:\n",
    "#         if(i >= '0' and i <= '9'):\n",
    "#             coord = (coord * 10) + (ord(i) - ord('0'))\n",
    "#         if(i == ',' or (i == ' ' and coord != 0)):\n",
    "#             curcord.append(coord)\n",
    "#             coord = 0\n",
    "#     curcord.append(coord)\n",
    "\n",
    "#     for x in range(curcord[0], curcord[2]+1):\n",
    "#         for y in range(curcord[1], curcord[3]+1):\n",
    "#             if(instruction[0:7] == 'turn on'):\n",
    "#                 field[x][y] += 1\n",
    "#             elif(instruction[0:8] == 'turn off'):\n",
    "#                 if(field[x][y] == 0):\n",
    "#                     continue\n",
    "#                 else:\n",
    "#                     field[x][y] -= 1\n",
    "#             else:\n",
    "#                 field[x][y] += 2\n",
    "\n",
    "# count = 0\n",
    "# for p in range(0, 1000):\n",
    "#     for q in range(0, 1000):\n",
    "#         count += field[p][q]\n",
    "# print(count)"
   ]
  },
  {
   "cell_type": "code",
   "execution_count": 6,
   "metadata": {},
   "outputs": [
    {
     "name": "stdout",
     "output_type": "stream",
     "text": [
      "68\n"
     ]
    }
   ],
   "source": [
    "a = 17\n",
    "b = a << 2\n",
    "print(b)"
   ]
  }
 ],
 "metadata": {
  "kernelspec": {
   "display_name": "base",
   "language": "python",
   "name": "python3"
  },
  "language_info": {
   "codemirror_mode": {
    "name": "ipython",
    "version": 3
   },
   "file_extension": ".py",
   "mimetype": "text/x-python",
   "name": "python",
   "nbconvert_exporter": "python",
   "pygments_lexer": "ipython3",
   "version": "3.10.9"
  }
 },
 "nbformat": 4,
 "nbformat_minor": 2
}
