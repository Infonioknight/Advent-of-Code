{
 "cells": [
  {
   "cell_type": "code",
   "execution_count": null,
   "metadata": {},
   "outputs": [],
   "source": [
    "# Swap function\n",
    "def swap(x, y):\n",
    "    return y, x"
   ]
  },
  {
   "cell_type": "code",
   "execution_count": null,
   "metadata": {},
   "outputs": [],
   "source": [
    "# Quicksort\n",
    "import random\n",
    "\n",
    "def partition(array):\n",
    "    chosen_pivot = random.randint(0, len(array) - 1)\n",
    "    p_index = 0\n",
    "    for iterator in range(0, len(array)):\n",
    "        if array[iterator] < array[chosen_pivot]:\n",
    "            if p_index == chosen_pivot:\n",
    "                chosen_pivot = iterator\n",
    "            array[iterator], array[p_index] = swap(array[iterator], array[p_index])\n",
    "            p_index += 1\n",
    "    array[p_index], array[chosen_pivot] = swap(array[p_index], array[chosen_pivot])\n",
    "    return array, p_index\n",
    "\n",
    "def quicksort(array):\n",
    "    array, p_index = partition(array)\n",
    "\n",
    "    solution = []\n",
    "    if p_index != 0: \n",
    "        first_half = quicksort(array[:p_index])\n",
    "        solution += first_half\n",
    "\n",
    "    solution += [array[p_index]]\n",
    "\n",
    "    if p_index != len(array) - 1: \n",
    "        second_half = quicksort(array[p_index + 1:])\n",
    "        solution += second_half\n",
    "    return solution"
   ]
  },
  {
   "cell_type": "code",
   "execution_count": 114,
   "metadata": {},
   "outputs": [
    {
     "name": "stdout",
     "output_type": "stream",
     "text": [
      "209914\n"
     ]
    }
   ],
   "source": [
    "data = open('day1.txt', 'r').read().split('\\n')\n",
    "elf_calories = []\n",
    "current_calories = 0\n",
    "\n",
    "for line in data:\n",
    "    if len(line) != 0:\n",
    "        current_calories += int(line)\n",
    "    else:\n",
    "        elf_calories.append(current_calories)\n",
    "        current_calories = 0\n",
    "\n",
    "elf_calories = quicksort(elf_calories)\n",
    "print(sum(elf_calories[-3:]))\n"
   ]
  },
  {
   "cell_type": "code",
   "execution_count": 122,
   "metadata": {},
   "outputs": [
    {
     "name": "stdout",
     "output_type": "stream",
     "text": [
      "9541\n"
     ]
    }
   ],
   "source": [
    "# Rock, paper, scissors\n",
    "\n",
    "data = open('day2.txt', 'r').read().split('\\n')\n",
    "total = 0\n",
    "for line in data:\n",
    "    opp, me = line.split(' ')\n",
    "    opp = ord(opp) - 65 \n",
    "    me = ord(me) - 88\n",
    "    # total += me + 1\n",
    "    # if opp - me == 0:\n",
    "    #     total += 3\n",
    "    # elif me - opp == 1 or me - opp == -2: \n",
    "    #     total += 6\n",
    "\n",
    "    total += (me * 3) # Takes care of the outcome\n",
    "    if me == 2:\n",
    "        if opp < 2: total += opp + 2\n",
    "        else: total += 1\n",
    "    elif me == 1:\n",
    "        total += opp + 1\n",
    "    else:\n",
    "        if opp > 0: total += opp\n",
    "        else: total += 3\n",
    "    \n",
    "print(total)"
   ]
  },
  {
   "cell_type": "code",
   "execution_count": 148,
   "metadata": {},
   "outputs": [
    {
     "name": "stdout",
     "output_type": "stream",
     "text": [
      "2276\n"
     ]
    }
   ],
   "source": [
    "def priority_finder(item):\n",
    "    if ord(item) >= 97:\n",
    "        return ord(item) - 96\n",
    "    else:\n",
    "        return ord(item) - 38\n",
    "\n",
    "def lookup(first, second, third):\n",
    "    hash = {}\n",
    "    necessary = ''\n",
    "    for character in first:\n",
    "        hash[character] = 1\n",
    "    \n",
    "    for character in second:\n",
    "        if character in hash.keys() and hash[character] != 2:\n",
    "            hash[character] += 1\n",
    "    \n",
    "    for character in third:\n",
    "        if character in hash.keys() and hash[character] == 2:\n",
    "            necessary = character\n",
    "    return priority_finder(necessary)\n",
    "\n",
    "data = open('day3.txt', 'r').read().split('\\n')\n",
    "solution = 0\n",
    "\n",
    "# for line in data:\n",
    "#     first, second = line[:len(line) // 2], line[len(line) // 2:]\n",
    "#     for character in first:\n",
    "#         if character in second:\n",
    "#             solution += priority_finder(character)\n",
    "#             break\n",
    "\n",
    "elf_group = ''\n",
    "for index, line in enumerate(data):\n",
    "    if (index + 1) % 3 != 0:\n",
    "        elf_group += line + ' '\n",
    "    else:\n",
    "        elf_group += line\n",
    "        first, second, third = elf_group.split(' ')\n",
    "        # for character in first:\n",
    "        #     if character in second and character in third:\n",
    "        #         solution += priority_finder(character)\n",
    "        #         break\n",
    "        solution += lookup(first, second, third)\n",
    "        elf_group = ''\n",
    "print(solution)\n",
    "\n"
   ]
  }
 ],
 "metadata": {
  "kernelspec": {
   "display_name": "Python 3",
   "language": "python",
   "name": "python3"
  },
  "language_info": {
   "codemirror_mode": {
    "name": "ipython",
    "version": 3
   },
   "file_extension": ".py",
   "mimetype": "text/x-python",
   "name": "python",
   "nbconvert_exporter": "python",
   "pygments_lexer": "ipython3",
   "version": "3.12.0"
  }
 },
 "nbformat": 4,
 "nbformat_minor": 2
}
