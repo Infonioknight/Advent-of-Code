{
 "cells": [
  {
   "cell_type": "code",
   "execution_count": null,
   "metadata": {},
   "outputs": [],
   "source": [
    "# Day 1 - 1\n",
    "# calibration_document = input(\"Enter your text\")\n",
    "# data = calibration_document.split(\" \")\n",
    "# sum = 0\n",
    "# for value in data:\n",
    "#     numbers = ''\n",
    "#     for character in value:\n",
    "#         if character >= '0' and character <= '9':\n",
    "#             numbers += character\n",
    "    \n",
    "#     if len(numbers) == 0:\n",
    "#         continue\n",
    "#     else:\n",
    "#         sum += int(numbers[0] + numbers[-1])\n",
    "# print(sum)\n",
    "\n",
    "    \n"
   ]
  },
  {
   "cell_type": "code",
   "execution_count": null,
   "metadata": {},
   "outputs": [],
   "source": [
    "# # Day 1 - 2\n",
    "# calibration_document = input(\"Enter your text\")\n",
    "# data = calibration_document.split(\" \")\n",
    "# sum = 0\n",
    "# for value in data:\n",
    "#     numbers = ''\n",
    "#     for i in range(0, len(value)):\n",
    "#         if(value[i] == 'o'):\n",
    "#             if(value[i:i+3] == 'one'):\n",
    "#                 numbers += '1'\n",
    "#         elif(value[i] == 't'):\n",
    "#             if(value[i:i+3] == 'two'):\n",
    "#                 numbers += '2'\n",
    "#             elif(value[i:i+5] == 'three'):\n",
    "#                 numbers += '3'\n",
    "#         elif(value[i] == 'f'):\n",
    "#             if(value[i:i+4] == 'four'):\n",
    "#                 numbers += '4'\n",
    "#             elif(value[i:i+4] == 'five'):\n",
    "#                 numbers += '5'\n",
    "#         elif(value[i] == 's'):\n",
    "#             if(value[i:i+3] == 'six'):\n",
    "#                 numbers += '6'\n",
    "#             elif(value[i:i+5] == 'seven'):\n",
    "#                 numbers += '7'\n",
    "#         elif(value[i] == 'e'):\n",
    "#             if(value[i:i+5] == 'eight'):\n",
    "#                 numbers += '8'\n",
    "#         elif(value[i] == 'n'):\n",
    "#             if(value[i:i+4] == 'nine'):\n",
    "#                 numbers += '9'\n",
    "#         elif(value[i] >= '0' and value[i] <= '9'):\n",
    "#             numbers += value[i]\n",
    "    \n",
    "#     if(numbers == ''):\n",
    "#         sum += 0\n",
    "#     else:\n",
    "#         sum += int(numbers[0] + numbers[-1])\n",
    "# print(sum)\n",
    "        \n",
    "\n"
   ]
  },
  {
   "cell_type": "code",
   "execution_count": null,
   "metadata": {},
   "outputs": [],
   "source": [
    "# data = open(\"Games.txt\", \"r\")\n",
    "# game_data = data.read()\n",
    "# data_cleaned = game_data.split('\\n')\n",
    "# # 12 red cubes, 13 green cubes, and 14 blue cubes"
   ]
  },
  {
   "cell_type": "code",
   "execution_count": null,
   "metadata": {},
   "outputs": [],
   "source": [
    "# solution = 0\n",
    "# for i in range(0, len(data_cleaned)):\n",
    "#     pieced_string = []\n",
    "#     new_string = ''\n",
    "#     blue = 0\n",
    "#     green = 0\n",
    "#     red = 0\n",
    "#     for character in data_cleaned[i]:\n",
    "#         if character == ',':\n",
    "#             continue\n",
    "#         elif character == ':':\n",
    "#             new_string = ''\n",
    "#         elif character == ';':\n",
    "#             pieced_string.append(new_string.strip())\n",
    "#             new_string = ''\n",
    "#         else:\n",
    "#             new_string += character\n",
    "#     pieced_string.append(new_string)\n",
    "#     for individual in pieced_string:\n",
    "#         temp = individual.split()\n",
    "#         index = 0\n",
    "#         while index < len(temp)-1:\n",
    "#             if(temp[index+1] == 'red'):\n",
    "#                 if(int(temp[index]) > red):\n",
    "#                     red = int(temp[index])\n",
    "#             if(temp[index+1] == 'green'):\n",
    "#                 if(int(temp[index]) > green):\n",
    "#                     green = int(temp[index])\n",
    "#             if(temp[index+1] == 'blue'):\n",
    "#                 if(int(temp[index]) > blue):\n",
    "#                     blue = int(temp[index])\n",
    "#             index = index + 2\n",
    "#     solution = solution + (blue * green * red)\n",
    "# print(solution)\n",
    "        \n",
    "    "
   ]
  },
  {
   "cell_type": "code",
   "execution_count": null,
   "metadata": {},
   "outputs": [],
   "source": [
    "# data = open(\"Engine.txt\", \"r\")\n",
    "# engine_data = data.read()\n",
    "# engine_data = engine_data.split('\\n')"
   ]
  },
  {
   "cell_type": "code",
   "execution_count": null,
   "metadata": {},
   "outputs": [],
   "source": [
    "# def check(i, j):\n",
    "#     if(engine_data[i][j] == '*'):\n",
    "#         return True\n",
    "#     else:\n",
    "#         return False\n",
    "\n",
    "# def surrounding_check(line, column):\n",
    "#     line_zero = True if line == 0 else False\n",
    "#     line_end = True if line == len(engine_data)-1 else False\n",
    "#     col_zero = True if column == 0 else False\n",
    "#     col_end = True if column == len(engine_data[0])-1 else False\n",
    "\n",
    "#     if(not(line_zero)):\n",
    "#         if(check(line-1, column)):\n",
    "#             return (line-1, column)\n",
    "#         if(not(col_zero)):\n",
    "#             if(check(line-1, column-1)):\n",
    "#                 return (line-1, column-1)\n",
    "#         if(not(col_end)):\n",
    "#             if(check(line-1, column+1)):\n",
    "#                 return (line-1, column+1)\n",
    "#     if(not(col_zero)):\n",
    "#         if(check(line, column-1)):\n",
    "#             return (line, column-1)\n",
    "#     if(not(col_end)):\n",
    "#         if(check(line, column+1)):\n",
    "#             return (line, column+1)\n",
    "#     if(not(line_end)):\n",
    "#         if(check(line+1, column)):\n",
    "#             return (line+1, column)\n",
    "#         if(not(col_zero)):\n",
    "#             if(check(line+1, column-1)):\n",
    "#                 return (line+1, column-1)\n",
    "#         if(not(col_end)):\n",
    "#             if(check(line+1, column+1)):\n",
    "#                 return (line+1, column+1)\n",
    "#     return False"
   ]
  },
  {
   "cell_type": "code",
   "execution_count": null,
   "metadata": {},
   "outputs": [],
   "source": [
    "# gear_map = {}\n",
    "# for i in range(len(engine_data)):\n",
    "#     for j in range(len(engine_data[0])):\n",
    "#         if(engine_data[i][j] == '*'):\n",
    "#             gear_map[i, j] = []\n",
    "\n",
    "# for line in range(0, len(engine_data)):\n",
    "#     cur_number = ''\n",
    "#     flag = 0\n",
    "#     gear_loc = ()\n",
    "#     for column in range(0, len(engine_data[line])):\n",
    "#         if(engine_data[line][column].isdigit()):\n",
    "#             cur_number += engine_data[line][column]\n",
    "#             if(flag == 0):\n",
    "#                 if(surrounding_check(line, column)):\n",
    "#                     flag = 1\n",
    "#                     if(gear_loc == ()):\n",
    "#                         gear_loc = surrounding_check(line, column)\n",
    "#         else:\n",
    "#             if(flag == 1 and cur_number != ''):\n",
    "#                 gear_map[gear_loc].append(int(cur_number))\n",
    "#             cur_number = ''\n",
    "#             flag = 0\n",
    "#             gear_loc = ()\n",
    "#     if(cur_number != '' and flag == 1):\n",
    "#         gear_map[gear_loc].append(int(cur_number))      \n"
   ]
  },
  {
   "cell_type": "code",
   "execution_count": null,
   "metadata": {},
   "outputs": [],
   "source": [
    "# sum = 0\n",
    "# for gear in gear_map.keys():\n",
    "#     curr = gear_map[gear]\n",
    "    # if(len(curr) == 2):\n",
    "        # sum += (curr[0] * curr[1])\n",
    "\n",
    "# print(sum)"
   ]
  },
  {
   "cell_type": "code",
   "execution_count": null,
   "metadata": {},
   "outputs": [],
   "source": [
    "# data = open(\"Cards.txt\", \"r\")\n",
    "# data_raw = data.read()\n",
    "# data_cleaned = data_raw.split('\\n')"
   ]
  },
  {
   "cell_type": "code",
   "execution_count": null,
   "metadata": {},
   "outputs": [],
   "source": [
    "# card_counter = [1] * len(data_cleaned)\n",
    "# def fltr(x):\n",
    "#     if x == '' or x == ' ' or x == '  ':\n",
    "#         return False\n",
    "#     else:\n",
    "#         return True\n",
    "\n",
    "# for i in range(len(data_cleaned)):\n",
    "#     [win, hand] = data_cleaned[i].split('|')\n",
    "#     win = win.split(' ')\n",
    "#     win = list(filter(fltr, win))[2:]\n",
    "#     hand = hand.split(' ')\n",
    "#     hand = list(filter(fltr, hand))\n",
    "#     value = len(set(win) & set(hand))\n",
    "#     # Value is the number of same numbers betwee hand and winning\n",
    "#     for j in range(i+1, i+1+value):\n",
    "#         card_counter[j] += card_counter[i]\n",
    "\n",
    "# answer = 0\n",
    "# for i in card_counter:\n",
    "#     answer += i\n",
    "\n",
    "# print(answer)\n"
   ]
  },
  {
   "cell_type": "code",
   "execution_count": null,
   "metadata": {},
   "outputs": [],
   "source": [
    "# data = open(\"Maps.txt\", \"r\")\n",
    "# seeds, *blocks = data.read().split('\\n\\n')\n",
    "# seeds = [int(x) for x in seeds.split(':')[1].split()]\n",
    "\n",
    "# for block in blocks:\n",
    "#     for line in block.splitlines()[1:]:\n",
    "#         a, b, c = map(int, line.split())"
   ]
  },
  {
   "cell_type": "code",
   "execution_count": 70,
   "metadata": {},
   "outputs": [],
   "source": [
    "# locations = []\n",
    "# for seed in seeds:\n",
    "#     curmap = -1\n",
    "#     for map in respective_map_data[1:]:\n",
    "#         line_by_line = map.split('\\n')[1:]\n",
    "#         for line in line_by_line:\n",
    "#             values = line.split(' ')\n",
    "#             if(curmap == -1):\n",
    "#                 if int(seed) in range(int(values[1]), int(values[1]) + int(values[2])):\n",
    "#                     curmap = int(seed) - int(values[1]) + int(values[0])\n",
    "#                     break\n",
    "#             else:\n",
    "#                 if curmap in range(int(values[1]), int(values[1]) + int(values[2])):\n",
    "#                     curmap = curmap - int(values[1]) + int(values[0])\n",
    "#                     break\n",
    "#         if(curmap == -1):\n",
    "#             curmap = int(seed)\n",
    "#     locations.append(curmap)\n",
    "# print(locations)\n",
    "# min_loc = min(locations)\n",
    "# print(min_loc)  "
   ]
  },
  {
   "cell_type": "code",
   "execution_count": 1,
   "metadata": {},
   "outputs": [
    {
     "name": "stdout",
     "output_type": "stream",
     "text": [
      "1000\n"
     ]
    }
   ],
   "source": [
    "data = open(\"Springs.txt\", \"r\")\n",
    "springs = data.read().split('\\n')\n",
    "print(len(springs))"
   ]
  },
  {
   "cell_type": "code",
   "execution_count": 74,
   "metadata": {},
   "outputs": [],
   "source": [
    "# counter = 0"
   ]
  },
  {
   "cell_type": "code",
   "execution_count": 76,
   "metadata": {},
   "outputs": [],
   "source": [
    "# def worker(s, g, curr, pos, length):\n",
    "#     global counter\n",
    "#     if len(curr) == length:\n",
    "#         temp = []\n",
    "#         buffer = 0\n",
    "#         for i in curr:\n",
    "#             if i == '#':\n",
    "#                 buffer += 1\n",
    "#             else:\n",
    "#                 if buffer != 0:\n",
    "#                     temp.append(buffer)\n",
    "#                     buffer = 0\n",
    "#         if buffer != 0:\n",
    "#             temp.append(buffer)\n",
    "#         if temp == g:\n",
    "#             counter += 1\n",
    "\n",
    "        \n",
    "#     else:\n",
    "#         if s[pos] == '.' or s[pos] == '#':\n",
    "#             curr += s[pos]\n",
    "#             worker(s, g, curr, pos+1, length)\n",
    "#         else:\n",
    "#             worker(s, g, curr+'.', pos+1, length)\n",
    "#             worker(s, g, curr+'#', pos+1, length)\n"
   ]
  },
  {
   "cell_type": "code",
   "execution_count": 61,
   "metadata": {},
   "outputs": [],
   "source": [
    "# def worker_memo(s, g, curr, pos, length, memo):\n",
    "#     global counter\n",
    "#     if len(curr) == length:\n",
    "#         temp = []\n",
    "#         buffer = 0\n",
    "#         for i in curr:\n",
    "#             if i == '#':\n",
    "#                 buffer += 1\n",
    "#             else:\n",
    "#                 if buffer != 0:\n",
    "#                     temp.append(buffer)\n",
    "#                     buffer = 0\n",
    "#         if buffer != 0:\n",
    "#             temp.append(buffer)\n",
    "#         if temp == g:\n",
    "#             counter += 1\n",
    "#         return\n",
    "\n",
    "#     if (curr, pos) in memo:\n",
    "#         return\n",
    "\n",
    "#     if s[pos] == '.' or s[pos] == '#':\n",
    "#         worker_memo(s, g, curr + s[pos], pos + 1, length, memo)\n",
    "#     else:\n",
    "#         worker_memo(s, g, curr + '.', pos + 1, length, memo)\n",
    "#         worker_memo(s, g, curr + '#', pos + 1, length, memo)\n",
    "\n",
    "#     memo.add((curr, pos))"
   ]
  },
  {
   "cell_type": "code",
   "execution_count": 78,
   "metadata": {},
   "outputs": [],
   "source": [
    "# for test in springs:\n",
    "#     [spout, guide] = test.split(' ')\n",
    "#     x = list(guide.split(','))\n",
    "#     x = [int(item) for item in x]\n",
    "#     memo = set()\n",
    "#     worker(spout, x, '', 0, len(spout))"
   ]
  },
  {
   "cell_type": "code",
   "execution_count": 79,
   "metadata": {},
   "outputs": [
    {
     "name": "stdout",
     "output_type": "stream",
     "text": [
      "7251\n"
     ]
    }
   ],
   "source": [
    "# print(counter)\n",
    "# # 7251"
   ]
  },
  {
   "cell_type": "code",
   "execution_count": 2,
   "metadata": {},
   "outputs": [
    {
     "name": "stdout",
     "output_type": "stream",
     "text": [
      "2128386729962\n"
     ]
    }
   ],
   "source": [
    "cache = {}\n",
    "\n",
    "def count(cfg, nums):\n",
    "    if cfg == \"\":\n",
    "        return 1 if nums == () else 0\n",
    "\n",
    "    if nums == ():\n",
    "        return 0 if \"#\" in cfg else 1\n",
    "    \n",
    "    key = (cfg, nums)\n",
    "    \n",
    "    if key in cache:\n",
    "        return cache[key]\n",
    "\n",
    "    result = 0\n",
    "    \n",
    "    if cfg[0] in \".?\":\n",
    "        result += count(cfg[1:], nums)\n",
    "        \n",
    "    if cfg[0] in \"#?\":\n",
    "        if nums[0] <= len(cfg) and \".\" not in cfg[:nums[0]] and (nums[0] == len(cfg) or cfg[nums[0]] != \"#\"):\n",
    "            result += count(cfg[nums[0] + 1:], nums[1:])\n",
    "\n",
    "    cache[key] = result\n",
    "    return result\n",
    "\n",
    "total = 0\n",
    "\n",
    "for line in springs:\n",
    "    cfg, nums = line.split()\n",
    "    nums = tuple(map(int, nums.split(\",\")))\n",
    "    \n",
    "    cfg = \"?\".join([cfg] * 5)\n",
    "    nums *= 5\n",
    "    \n",
    "    total += count(cfg, nums)\n",
    "\n",
    "print(total)"
   ]
  },
  {
   "cell_type": "code",
   "execution_count": 3,
   "metadata": {},
   "outputs": [
    {
     "name": "stdout",
     "output_type": "stream",
     "text": [
      ".?.?.?.?.\n"
     ]
    }
   ],
   "source": [
    "cfg = '.'\n",
    "cfg = \"?\".join([cfg] * 5)\n",
    "print(cfg)"
   ]
  }
 ],
 "metadata": {
  "kernelspec": {
   "display_name": "base",
   "language": "python",
   "name": "python3"
  },
  "language_info": {
   "codemirror_mode": {
    "name": "ipython",
    "version": 3
   },
   "file_extension": ".py",
   "mimetype": "text/x-python",
   "name": "python",
   "nbconvert_exporter": "python",
   "pygments_lexer": "ipython3",
   "version": "3.10.9"
  }
 },
 "nbformat": 4,
 "nbformat_minor": 2
}
